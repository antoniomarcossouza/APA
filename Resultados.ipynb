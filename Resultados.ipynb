{
 "cells": [
  {
   "cell_type": "markdown",
   "metadata": {},
   "source": [
    "# Análise dos resultados"
   ]
  },
  {
   "cell_type": "code",
   "execution_count": null,
   "metadata": {},
   "outputs": [],
   "source": [
    "import glob\n",
    "import pandas as pd\n",
    "import matplotlib.pyplot as plt"
   ]
  },
  {
   "cell_type": "code",
   "execution_count": null,
   "metadata": {},
   "outputs": [],
   "source": [
    "data_dir = glob.glob(\"./data/*.csv\")\n",
    "\n",
    "dfs = []\n",
    "\n",
    "for file in data_dir:\n",
    "    df = pd.read_csv(file)\n",
    "    dfs.append(df)\n",
    "\n",
    "results = pd.concat(dfs)"
   ]
  },
  {
   "cell_type": "code",
   "execution_count": null,
   "metadata": {},
   "outputs": [],
   "source": [
    "tempo_medio = (\n",
    "    results.groupby([\"method\", \"list_size\", \"shuffle_percentage\"])[\"time_seconds\"]\n",
    "    .mean()\n",
    "    .reset_index()\n",
    ")"
   ]
  },
  {
   "cell_type": "code",
   "execution_count": null,
   "metadata": {},
   "outputs": [],
   "source": [
    "for label, df in tempo_medio.groupby(\"method\"):\n",
    "    shuffle_percentages = df[\"shuffle_percentage\"].unique()\n",
    "    for shuffle_percentage in shuffle_percentages:\n",
    "        df_temp = df[df[\"shuffle_percentage\"] == shuffle_percentage]\n",
    "        plt.plot(\n",
    "            df_temp[\"list_size\"].values,\n",
    "            df_temp[\"time_seconds\"].values,\n",
    "            label=f\"{shuffle_percentage}%\",\n",
    "        )\n",
    "        plt.title(f\"Tempo para ordenação do método {label}\")\n",
    "        plt.xlabel(\"Tamanho da lista\")\n",
    "        plt.ylabel(\"Tempo (segundos)\")\n",
    "        plt.xticks([1000, 10000, 100000])\n",
    "        plt.legend()\n",
    "    plt.show()\n",
    "    plt.savefig(f\"./img/method/{label}.png\")"
   ]
  },
  {
   "cell_type": "code",
   "execution_count": null,
   "metadata": {},
   "outputs": [],
   "source": [
    "for label, df in tempo_medio.groupby(\"shuffle_percentage\"):\n",
    "    methods = df[\"method\"].unique()\n",
    "    for method in methods:\n",
    "        df_temp = df[df[\"method\"] == method]\n",
    "        plt.plot(\n",
    "            df_temp[\"list_size\"].values,\n",
    "            df_temp[\"time_seconds\"].values,\n",
    "            label=method,\n",
    "        )\n",
    "        plt.title(f\"Tempo para ordenação para listas {label}% desordenadas\")\n",
    "        plt.xlabel(\"Tamanho da lista\")\n",
    "        plt.ylabel(\"Tempo (segundos)\")\n",
    "        plt.xticks([1000, 10000, 100000])\n",
    "        plt.legend()\n",
    "    plt.savefig(f\"./img/shuffle/{label}.png\")\n",
    "    plt.show()"
   ]
  }
 ],
 "metadata": {
  "kernelspec": {
   "display_name": "Python 3",
   "language": "python",
   "name": "python3"
  },
  "language_info": {
   "codemirror_mode": {
    "name": "ipython",
    "version": 3
   },
   "file_extension": ".py",
   "mimetype": "text/x-python",
   "name": "python",
   "nbconvert_exporter": "python",
   "pygments_lexer": "ipython3",
   "version": "3.10.12"
  }
 },
 "nbformat": 4,
 "nbformat_minor": 2
}
